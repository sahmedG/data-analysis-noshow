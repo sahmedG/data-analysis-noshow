{
 "cells": [
  {
   "cell_type": "markdown",
   "metadata": {},
   "source": [
    "> **Tip**: Welcome to the Investigate a Dataset project! You will find tips in quoted sections like this to help organize your approach to your investigation. Before submitting your project, it will be a good idea to go back through your report and remove these sections to make the presentation of your work as tidy as possible. First things first, you might want to double-click this Markdown cell and change the title so that it reflects your dataset and investigation.\n",
    "\n",
    "# Project: No show case study\n",
    "\n",
    "## Table of Contents\n",
    "<ul>\n",
    "<li><a href=\"#intro\">Introduction</a></li>\n",
    "<li><a href=\"#wrangling\">Data Wrangling</a></li>\n",
    "<li><a href=\"#eda\">Exploratory Data Analysis</a></li>\n",
    "<li><a href=\"#conclusions\">Conclusions</a></li>\n",
    "</ul>"
   ]
  },
  {
   "cell_type": "markdown",
   "metadata": {},
   "source": [
    "<a id='intro'></a>\n",
    "## Introduction\n",
    "Using the dataset no show appointments to predict what aspects prevents a patient from showing up to their appointment.\n",
    "The dataset provides a collection of information related to the patients and their appointment.\n",
    "> **Tip**: In this section of the report, provide a brief introduction to the dataset you've selected for analysis. At the end of this section, describe the questions that you plan on exploring over the course of the report. Try to build your report around the analysis of at least one dependent variable and three independent variables.\n",
    "\n",
    "> If you haven't yet selected and downloaded your data, make sure you do that first before coming back here. If you're not sure what questions to ask right now, then make sure you familiarize yourself with the variables and the dataset context for ideas of what to explore.>\n",
    "\n",
    "In this case study, I will explore the dataset to find the most affecting factors on making a patient miss his/her appointment.\n",
    "Focusing on No show column and it's relation with SMS confirmation , schedule date , appointment date and age.\n",
    "Questions to explore:\n",
    "1. Which factor has most impact on no show result?\n",
    "2. Is receiving SMS confirmation from the hospital leads to more patients showing up for their appointments?\n",
    "3. Are long sheduled patients more likely to not sho2 up for their appointments?"
   ]
  },
  {
   "cell_type": "code",
   "execution_count": 1,
   "metadata": {},
   "outputs": [],
   "source": [
    "# Use this cell to set up import statements for all of the packages that you\n",
    "#   plan to use.\n",
    "import pandas as pd\n",
    "import numpy as np\n",
    "import matplotlib.pyplot as plt\n",
    "%matplotlib inline\n",
    "# Remember to include a 'magic word' so that your visualizations are plotted\n",
    "#   inline with the notebook. See this page for more:\n",
    "#   http://ipython.readthedocs.io/en/stable/interactive/magics.html\n"
   ]
  },
  {
   "cell_type": "markdown",
   "metadata": {},
   "source": [
    "<a id='wrangling'></a>\n",
    "## Data Wrangling\n",
    "\n",
    "> **Tip**: In this section of the report, you will load in the data, check for cleanliness, and then trim and clean your dataset for analysis. Make sure that you document your steps carefully and justify your cleaning decisions.\n",
    "\n",
    "### General Properties"
   ]
  },
  {
   "cell_type": "code",
   "execution_count": 2,
   "metadata": {},
   "outputs": [
    {
     "name": "stdout",
     "output_type": "stream",
     "text": [
      "      PatientId  AppointmentID Gender          ScheduledDay  \\\n",
      "0  2.987250e+13        5642903      F  2016-04-29T18:38:08Z   \n",
      "1  5.589978e+14        5642503      M  2016-04-29T16:08:27Z   \n",
      "\n",
      "         AppointmentDay  Age    Neighbourhood  Scholarship  Hipertension  \\\n",
      "0  2016-04-29T00:00:00Z   62  JARDIM DA PENHA            0             1   \n",
      "1  2016-04-29T00:00:00Z   56  JARDIM DA PENHA            0             0   \n",
      "\n",
      "   Diabetes  Alcoholism  Handcap  SMS_received No-show  \n",
      "0         0           0        0             0      No  \n",
      "1         0           0        0             0      No  \n",
      "<class 'pandas.core.frame.DataFrame'>\n",
      "RangeIndex: 110527 entries, 0 to 110526\n",
      "Data columns (total 14 columns):\n",
      " #   Column          Non-Null Count   Dtype  \n",
      "---  ------          --------------   -----  \n",
      " 0   PatientId       110527 non-null  float64\n",
      " 1   AppointmentID   110527 non-null  int64  \n",
      " 2   Gender          110527 non-null  object \n",
      " 3   ScheduledDay    110527 non-null  object \n",
      " 4   AppointmentDay  110527 non-null  object \n",
      " 5   Age             110527 non-null  int64  \n",
      " 6   Neighbourhood   110527 non-null  object \n",
      " 7   Scholarship     110527 non-null  int64  \n",
      " 8   Hipertension    110527 non-null  int64  \n",
      " 9   Diabetes        110527 non-null  int64  \n",
      " 10  Alcoholism      110527 non-null  int64  \n",
      " 11  Handcap         110527 non-null  int64  \n",
      " 12  SMS_received    110527 non-null  int64  \n",
      " 13  No-show         110527 non-null  object \n",
      "dtypes: float64(1), int64(8), object(5)\n",
      "memory usage: 11.8+ MB\n",
      "None\n"
     ]
    }
   ],
   "source": [
    "# Load your data and print out a few lines. Perform operations to inspect data\n",
    "#   types and look for instances of missing or possibly errant data.\n",
    "app_df = pd.read_csv('noshowappointments-kagglev2-may-2016.csv')\n",
    "print(app_df.head(2))\n",
    "print(app_df.info())"
   ]
  },
  {
   "cell_type": "markdown",
   "metadata": {},
   "source": [
    ">After reading the dataframe we found inconsistance in the columns names that must be addressed and incosistance in patientid column showing type float which should be int"
   ]
  },
  {
   "cell_type": "markdown",
   "metadata": {},
   "source": [
    "> **Tip**: You should _not_ perform too many operations in each cell. Create cells freely to explore your data. One option that you can take with this project is to do a lot of explorations in an initial notebook. These don't have to be organized, but make sure you use enough comments to understand the purpose of each code cell. Then, after you're done with your analysis, create a duplicate notebook where you will trim the excess and organize your steps so that you have a flowing, cohesive report.\n",
    "\n",
    "> **Tip**: Make sure that you keep your reader informed on the steps that you are taking in your investigation. Follow every code cell, or every set of related code cells, with a markdown cell to describe to the reader what was found in the preceding cell(s). Try to make it so that the reader can then understand what they will be seeing in the following cell(s).\n",
    "\n",
    "### Data Cleaning (Studying the data within the dataset and the types of each column!)"
   ]
  },
  {
   "cell_type": "code",
   "execution_count": 3,
   "metadata": {},
   "outputs": [
    {
     "name": "stdout",
     "output_type": "stream",
     "text": [
      "     patient_id  appointment_id gender         scheduled_day  \\\n",
      "0  2.987250e+13         5642903      F  2016-04-29T18:38:08Z   \n",
      "\n",
      "        appointment_day  age    neighbourhood  scholarship  hipertension  \\\n",
      "0  2016-04-29T00:00:00Z   62  JARDIM DA PENHA            0             1   \n",
      "\n",
      "   diabetes  alcoholism  handcap  sms_received no_show  \n",
      "0         0           0        0             0      No  \n"
     ]
    }
   ],
   "source": [
    "# After discussing the structure of the data and any problems that need to be\n",
    "#   cleaned, perform those cleaning steps in the second part of this section.\n",
    "# for ease of access to the dataframe I will rename all columns to lowercase and replacing '-' with '_' and strip all spaces\n",
    "app_df.rename(columns=lambda x: x.strip().lower().replace(\"-\", \"_\"), inplace=True )\n",
    "# rename patientid and appointmentid to patient_id and appointment_id\n",
    "app_df.rename(columns={'patientid':'patient_id' , 'appointmentid':'appointment_id'}, inplace = True)\n",
    "# rename scheduledday and appointmentday to scheduled_day and appointment_day\n",
    "app_df.rename(columns={'scheduledday':'scheduled_day' , 'appointmentday':'appointment_day'}, inplace = True)\n",
    "#confirm changes\n",
    "print(app_df.head(1))"
   ]
  },
  {
   "cell_type": "code",
   "execution_count": 4,
   "metadata": {},
   "outputs": [
    {
     "name": "stdout",
     "output_type": "stream",
     "text": [
      "count of unique patient IDs 62299\n",
      " \n",
      "Array of indexes of rows has decimal value\n",
      "[  3950  73228  73303 100517 105430]\n",
      " \n",
      "Printing rows of the selected indexes\n",
      "          patient_id  appointment_id gender         scheduled_day  \\\n",
      "3950    93779.529270         5712759      F  2016-05-18T09:12:29Z   \n",
      "73228  537615.284760         5637728      F  2016-04-29T07:19:57Z   \n",
      "73303  141724.166550         5637648      M  2016-04-29T07:13:36Z   \n",
      "100517  39217.844390         5751990      F  2016-05-31T10:56:41Z   \n",
      "105430  43741.756520         5760144      M  2016-06-01T14:22:58Z   \n",
      "\n",
      "             appointment_day  age   neighbourhood  scholarship  hipertension  \\\n",
      "3950    2016-05-18T00:00:00Z   33          CENTRO            0             0   \n",
      "73228   2016-05-06T00:00:00Z   14  FORTE SÃO JOÃO            0             0   \n",
      "73303   2016-05-02T00:00:00Z   12  FORTE SÃO JOÃO            0             0   \n",
      "100517  2016-06-03T00:00:00Z   44    PRAIA DO SUÁ            0             0   \n",
      "105430  2016-06-01T00:00:00Z   39     MARIA ORTIZ            0             0   \n",
      "\n",
      "        diabetes  alcoholism  handcap  sms_received no_show  \n",
      "3950           0           0        0             0      No  \n",
      "73228          0           0        0             1      No  \n",
      "73303          0           0        0             0      No  \n",
      "100517         0           0        0             0      No  \n",
      "105430         1           0        0             0      No  \n",
      "Confirming decimal point dropped\n",
      "               patient_id  appointment_id gender         scheduled_day  \\\n",
      "3950           9377952927         5712759      F  2016-05-18T09:12:29Z   \n",
      "73228    5376152847600001         5637728      F  2016-04-29T07:19:57Z   \n",
      "73303         14172416655         5637648      M  2016-04-29T07:13:36Z   \n",
      "100517         3921784439         5751990      F  2016-05-31T10:56:41Z   \n",
      "105430  43741756519999995         5760144      M  2016-06-01T14:22:58Z   \n",
      "\n",
      "             appointment_day  age   neighbourhood  scholarship  hipertension  \\\n",
      "3950    2016-05-18T00:00:00Z   33          CENTRO            0             0   \n",
      "73228   2016-05-06T00:00:00Z   14  FORTE SÃO JOÃO            0             0   \n",
      "73303   2016-05-02T00:00:00Z   12  FORTE SÃO JOÃO            0             0   \n",
      "100517  2016-06-03T00:00:00Z   44    PRAIA DO SUÁ            0             0   \n",
      "105430  2016-06-01T00:00:00Z   39     MARIA ORTIZ            0             0   \n",
      "\n",
      "        diabetes  alcoholism  handcap  sms_received no_show  \n",
      "3950           0           0        0             0      No  \n",
      "73228          0           0        0             1      No  \n",
      "73303          0           0        0             0      No  \n",
      "100517         0           0        0             0      No  \n",
      "105430         1           0        0             0      No  \n",
      " \n",
      "Confirm data type changed int64\n"
     ]
    }
   ],
   "source": [
    "# patient_id is shwoing incorrect datatype ID should be integer while it shows float further investigation required\n",
    "# set option to show 9 digits after the decimal point\n",
    "pd.options.display.float_format = '{:9f}'.format\n",
    "# printing number of unique patient IDs\n",
    "unique_patient_id = app_df.patient_id.nunique()\n",
    "print(('count of unique patient IDs'),(unique_patient_id))\n",
    "print(' ')\n",
    "# investigating patients with decimal IDs usnig the invert operator from python to invert bits from the lambda function\n",
    "true_values = [~ app_df.patient_id.apply(lambda x: x.is_integer())]\n",
    "print('Array of indexes of rows has decimal value')\n",
    "print(np.where(true_values)[1])\n",
    "# printing values for the queried values with shown indexes\n",
    "print(' ')\n",
    "result = app_df.loc[[3950,  73228,  73303, 100517, 105430]]\n",
    "print('Printing rows of the selected indexes')\n",
    "print(result)\n",
    "# removing the decimal point from the 5 entries in patient_id column assuming they are human error\n",
    "# converting the column type to str to drop each decimal point\n",
    "app_df['patient_id'] = app_df['patient_id'].astype(str)\n",
    "app_df['patient_id'] = app_df.patient_id.str.replace('.', '')\n",
    "# Confirm decimal point dropped from all 5 entries\n",
    "print('Confirming decimal point dropped')\n",
    "result = app_df.loc[[3950,  73228,  73303, 100517, 105430]]\n",
    "print(result)\n",
    "# convert patient_id column to int using to_numeric fun\n",
    "app_df['patient_id'] = pd.to_numeric(app_df['patient_id'])\n",
    "# confirm data type changed\n",
    "print(' ')\n",
    "print(('Confirm data type changed'),app_df['patient_id'].dtypes)"
   ]
  },
  {
   "cell_type": "code",
   "execution_count": null,
   "metadata": {},
   "outputs": [],
   "source": []
  },
  {
   "cell_type": "markdown",
   "metadata": {},
   "source": [
    "<a id='eda'></a>\n",
    "## Exploratory Data Analysis\n",
    "\n",
    "> **Tip**: Now that you've trimmed and cleaned your data, you're ready to move on to exploration. Compute statistics and create visualizations with the goal of addressing the research questions that you posed in the Introduction section. It is recommended that you be systematic with your approach. Look at one variable at a time, and then follow it up by looking at relationships between variables.\n",
    "\n",
    "### Research Question 1 (which factpr has most impact on no show result)"
   ]
  },
  {
   "cell_type": "code",
   "execution_count": 5,
   "metadata": {},
   "outputs": [
    {
     "name": "stdout",
     "output_type": "stream",
     "text": [
      "hipertension&no_show 3772\n",
      " \n",
      "diabetes&no_show 1430\n",
      " \n",
      "alcoholism&no_show 677\n",
      " \n",
      "handicap&no_show 366\n",
      " \n",
      "scholarship&no_show 2578\n",
      " \n",
      "Total count for the impact on no show from all attributes\n",
      "8823\n"
     ]
    }
   ],
   "source": [
    "# Use this, and more code cells, to explore your data. Don't forget to add\n",
    "#   Markdown cells to document your observations and findings.\n",
    "# studying which factor affects most on patient not showing up for their appointment\n",
    "hyper_Noshow = (app_df.loc[(app_df['hipertension'] == 1) & (app_df['no_show'] == 'Yes')])\n",
    "index_1 = hyper_Noshow.index\n",
    "number_of_rows_1 = len(index_1)\n",
    "print(('hipertension&no_show'),number_of_rows_1)\n",
    "print(' ')\n",
    "diabetes_Noshow = (app_df.loc[(app_df['diabetes'] == 1) & (app_df['no_show'] == 'Yes')])\n",
    "index_2 = diabetes_Noshow.index\n",
    "number_of_rows_2 = len(index_2)\n",
    "print(('diabetes&no_show'),number_of_rows_2)\n",
    "print(' ')\n",
    "alcoholism_Noshow = (app_df.loc[(app_df['alcoholism'] == 1) & (app_df['no_show'] == 'Yes')])\n",
    "index_3 = alcoholism_Noshow.index\n",
    "number_of_rows_3 = len(index_3)\n",
    "print(('alcoholism&no_show'),number_of_rows_3)\n",
    "print(' ')\n",
    "handicap_Noshow = (app_df.loc[(app_df['handcap'] == 1) & (app_df['no_show'] == 'Yes')])\n",
    "index_4 = handicap_Noshow.index\n",
    "number_of_rows_4 = len(index_4)\n",
    "print(('handicap&no_show'),number_of_rows_4)\n",
    "print(' ')\n",
    "scholarship_Noshow = (app_df.loc[(app_df['scholarship'] == 1) & (app_df['no_show'] == 'Yes')])\n",
    "index_5 = scholarship_Noshow.index\n",
    "number_of_rows_5 = len(index_5)\n",
    "print(('scholarship&no_show'),number_of_rows_5)\n",
    "total_patient_att = (number_of_rows_5+number_of_rows_2+number_of_rows_3+number_of_rows_4+number_of_rows_1)\n",
    "print(' ')\n",
    "print('Total count for the impact on no show from all attributes')\n",
    "print(total_patient_att)"
   ]
  },
  {
   "cell_type": "markdown",
   "metadata": {},
   "source": [
    "as a result from the previous investigation the attributes (scholarship,handicap,alcoholism,diabetes,hypertension)\n",
    "don't have great impact on the no_show therefor we will exclude them from any further investigations"
   ]
  },
  {
   "cell_type": "code",
   "execution_count": 6,
   "metadata": {},
   "outputs": [
    {
     "name": "stdout",
     "output_type": "stream",
     "text": [
      "sms_received&no_show   12535\n"
     ]
    }
   ],
   "source": [
    "SMS_Noshow = (app_df.loc[(app_df['sms_received'] == 0) & (app_df['no_show'] == 'Yes')])\n",
    "index_6 = SMS_Noshow.index\n",
    "number_of_rows_6 = len(index_6)\n",
    "print(('sms_received&no_show'),(' '),number_of_rows_6)"
   ]
  },
  {
   "cell_type": "markdown",
   "metadata": {},
   "source": [
    "This shows relationship between patients who didn't receive SMS confirmation from hospital are more likely not to attend their appointment"
   ]
  },
  {
   "cell_type": "markdown",
   "metadata": {},
   "source": [
    "### Research Question 2  (Are long sheduled patients more likely to not sho2 up for their appointments?)"
   ]
  },
  {
   "cell_type": "code",
   "execution_count": 7,
   "metadata": {},
   "outputs": [],
   "source": [
    "# Continue to explore the data to address your additional research\n",
    "#   questions. Add more headers as needed if you have more questions to\n",
    "#   investigate.\n",
    "# to investigate this section we will extract the date part only from both schedule_day and appointment_day \n",
    "# and compute the difference to see the impact on no_show result by adding schedule_date and appointment_date columns \n",
    "# fisrt we need to change the datatype for appointment_date & scheduled_date from object to datetime\n",
    "app_df['appointment_day'] = pd.to_datetime(app_df['appointment_day'])\n",
    "app_df['scheduled_day'] = pd.to_datetime(app_df['scheduled_day'])\n",
    "app_df['appointment_date'] = app_df['appointment_day'].dt.date\n",
    "app_df['scheduled_date'] = app_df['scheduled_day'].dt.date\n",
    "# Creating new column difference_days representing the substrcat value between schedule_date and appointment_date\n",
    "app_df['difference_days'] = app_df['appointment_date']-app_df['scheduled_date']\n",
    "# For ease of accessing the difference between schedule_date and appointment_date we will categorize the result \n",
    "# using pd.cut parsing in the difference_days and bin values returing the categorization using pre defined labels\n",
    "# A represents same_day , B represents with in 2 days, C represents with in a week, D represents with in a month and \n",
    "# E represents above 1 month\n",
    "app_df.difference_days = (app_df.difference_days.astype('timedelta64[D]')).astype(int)\n",
    "app_df['difference_days_cat'] = pd.cut( app_df['difference_days'], bins = [-1, 0, 2, 7, 31, 90], labels=['A','B','C','D','E']) "
   ]
  },
  {
   "cell_type": "code",
   "execution_count": 8,
   "metadata": {},
   "outputs": [
    {
     "data": {
      "text/html": [
       "<div>\n",
       "<style scoped>\n",
       "    .dataframe tbody tr th:only-of-type {\n",
       "        vertical-align: middle;\n",
       "    }\n",
       "\n",
       "    .dataframe tbody tr th {\n",
       "        vertical-align: top;\n",
       "    }\n",
       "\n",
       "    .dataframe thead th {\n",
       "        text-align: right;\n",
       "    }\n",
       "</style>\n",
       "<table border=\"1\" class=\"dataframe\">\n",
       "  <thead>\n",
       "    <tr style=\"text-align: right;\">\n",
       "      <th></th>\n",
       "      <th>patient_id</th>\n",
       "      <th>appointment_id</th>\n",
       "      <th>gender</th>\n",
       "      <th>scheduled_day</th>\n",
       "      <th>appointment_day</th>\n",
       "      <th>age</th>\n",
       "      <th>neighbourhood</th>\n",
       "      <th>scholarship</th>\n",
       "      <th>hipertension</th>\n",
       "      <th>diabetes</th>\n",
       "      <th>alcoholism</th>\n",
       "      <th>handcap</th>\n",
       "      <th>sms_received</th>\n",
       "      <th>no_show</th>\n",
       "      <th>appointment_date</th>\n",
       "      <th>scheduled_date</th>\n",
       "      <th>difference_days</th>\n",
       "      <th>difference_days_cat</th>\n",
       "    </tr>\n",
       "  </thead>\n",
       "  <tbody>\n",
       "    <tr>\n",
       "      <th>58151</th>\n",
       "      <td>1227614647720</td>\n",
       "      <td>5704412</td>\n",
       "      <td>F</td>\n",
       "      <td>2016-05-16 15:39:39+00:00</td>\n",
       "      <td>2016-05-25 00:00:00+00:00</td>\n",
       "      <td>32</td>\n",
       "      <td>MATA DA PRAIA</td>\n",
       "      <td>0</td>\n",
       "      <td>0</td>\n",
       "      <td>0</td>\n",
       "      <td>0</td>\n",
       "      <td>0</td>\n",
       "      <td>1</td>\n",
       "      <td>No</td>\n",
       "      <td>2016-05-25</td>\n",
       "      <td>2016-05-16</td>\n",
       "      <td>9</td>\n",
       "      <td>D</td>\n",
       "    </tr>\n",
       "  </tbody>\n",
       "</table>\n",
       "</div>"
      ],
      "text/plain": [
       "          patient_id  appointment_id gender             scheduled_day  \\\n",
       "58151  1227614647720         5704412      F 2016-05-16 15:39:39+00:00   \n",
       "\n",
       "                appointment_day  age  neighbourhood  scholarship  \\\n",
       "58151 2016-05-25 00:00:00+00:00   32  MATA DA PRAIA            0   \n",
       "\n",
       "       hipertension  diabetes  alcoholism  handcap  sms_received no_show  \\\n",
       "58151             0         0           0        0             1      No   \n",
       "\n",
       "      appointment_date scheduled_date  difference_days difference_days_cat  \n",
       "58151       2016-05-25     2016-05-16                9                   D  "
      ]
     },
     "execution_count": 8,
     "metadata": {},
     "output_type": "execute_result"
    }
   ],
   "source": [
    "app_df.sample()"
   ]
  },
  {
   "cell_type": "code",
   "execution_count": 9,
   "metadata": {},
   "outputs": [
    {
     "data": {
      "image/png": "[encoded data removed]",
      "text/plain": [
       "<Figure size 432x288 with 1 Axes>"
      ]
     },
     "metadata": {
      "needs_background": "light"
     },
     "output_type": "display_data"
    },
    {
     "name": "stdout",
     "output_type": "stream",
     "text": [
      "Proportion of sms_received for difference_days > 30\n",
      "0.6176527269223357\n"
     ]
    }
   ],
   "source": [
    "# now we plot propotion between sms_received and difference_days\n",
    "x = app_df.groupby('difference_days')['sms_received'].mean()[:32].index\n",
    "y = app_df.groupby('difference_days')['sms_received'].mean()[:32].values\n",
    "plt.title('Propotion of sms_received by difference_days')\n",
    "plt.plot(x,y, 'bo')\n",
    "plt.plot(x,y)\n",
    "plt.xlabel('difference_days')\n",
    "plt.ylabel('sms_received')\n",
    "plt.show()\n",
    "\n",
    "print(('Proportion of sms_received for difference_days > 30'))\n",
    "print(app_df[app_df.difference_days > 30]['sms_received'].mean())"
   ]
  },
  {
   "cell_type": "markdown",
   "metadata": {},
   "source": [
    "this shows the results from our previous comparison between appointment_date and schedule_date has negative values\n",
    "next we will find these rows with negative values"
   ]
  },
  {
   "cell_type": "code",
   "execution_count": 10,
   "metadata": {},
   "outputs": [
    {
     "data": {
      "text/html": [
       "<div>\n",
       "<style scoped>\n",
       "    .dataframe tbody tr th:only-of-type {\n",
       "        vertical-align: middle;\n",
       "    }\n",
       "\n",
       "    .dataframe tbody tr th {\n",
       "        vertical-align: top;\n",
       "    }\n",
       "\n",
       "    .dataframe thead th {\n",
       "        text-align: right;\n",
       "    }\n",
       "</style>\n",
       "<table border=\"1\" class=\"dataframe\">\n",
       "  <thead>\n",
       "    <tr style=\"text-align: right;\">\n",
       "      <th></th>\n",
       "      <th>patient_id</th>\n",
       "      <th>appointment_id</th>\n",
       "      <th>gender</th>\n",
       "      <th>scheduled_day</th>\n",
       "      <th>appointment_day</th>\n",
       "      <th>age</th>\n",
       "      <th>neighbourhood</th>\n",
       "      <th>scholarship</th>\n",
       "      <th>hipertension</th>\n",
       "      <th>diabetes</th>\n",
       "      <th>alcoholism</th>\n",
       "      <th>handcap</th>\n",
       "      <th>sms_received</th>\n",
       "      <th>no_show</th>\n",
       "      <th>appointment_date</th>\n",
       "      <th>scheduled_date</th>\n",
       "      <th>difference_days</th>\n",
       "      <th>difference_days_cat</th>\n",
       "    </tr>\n",
       "  </thead>\n",
       "  <tbody>\n",
       "    <tr>\n",
       "      <th>27033</th>\n",
       "      <td>78392726617520</td>\n",
       "      <td>5679978</td>\n",
       "      <td>M</td>\n",
       "      <td>2016-05-10 10:51:53+00:00</td>\n",
       "      <td>2016-05-09 00:00:00+00:00</td>\n",
       "      <td>38</td>\n",
       "      <td>RESISTÊNCIA</td>\n",
       "      <td>0</td>\n",
       "      <td>0</td>\n",
       "      <td>0</td>\n",
       "      <td>0</td>\n",
       "      <td>1</td>\n",
       "      <td>0</td>\n",
       "      <td>Yes</td>\n",
       "      <td>2016-05-09</td>\n",
       "      <td>2016-05-10</td>\n",
       "      <td>-1</td>\n",
       "      <td>NaN</td>\n",
       "    </tr>\n",
       "    <tr>\n",
       "      <th>55226</th>\n",
       "      <td>78962939678680</td>\n",
       "      <td>5715660</td>\n",
       "      <td>F</td>\n",
       "      <td>2016-05-18 14:50:41+00:00</td>\n",
       "      <td>2016-05-17 00:00:00+00:00</td>\n",
       "      <td>19</td>\n",
       "      <td>SANTO ANTÔNIO</td>\n",
       "      <td>0</td>\n",
       "      <td>0</td>\n",
       "      <td>0</td>\n",
       "      <td>0</td>\n",
       "      <td>1</td>\n",
       "      <td>0</td>\n",
       "      <td>Yes</td>\n",
       "      <td>2016-05-17</td>\n",
       "      <td>2016-05-18</td>\n",
       "      <td>-1</td>\n",
       "      <td>NaN</td>\n",
       "    </tr>\n",
       "    <tr>\n",
       "      <th>64175</th>\n",
       "      <td>242522583899790</td>\n",
       "      <td>5664962</td>\n",
       "      <td>F</td>\n",
       "      <td>2016-05-05 13:43:58+00:00</td>\n",
       "      <td>2016-05-04 00:00:00+00:00</td>\n",
       "      <td>22</td>\n",
       "      <td>CONSOLAÇÃO</td>\n",
       "      <td>0</td>\n",
       "      <td>0</td>\n",
       "      <td>0</td>\n",
       "      <td>0</td>\n",
       "      <td>0</td>\n",
       "      <td>0</td>\n",
       "      <td>Yes</td>\n",
       "      <td>2016-05-04</td>\n",
       "      <td>2016-05-05</td>\n",
       "      <td>-1</td>\n",
       "      <td>NaN</td>\n",
       "    </tr>\n",
       "    <tr>\n",
       "      <th>71533</th>\n",
       "      <td>9982315816121220</td>\n",
       "      <td>5686628</td>\n",
       "      <td>F</td>\n",
       "      <td>2016-05-11 13:49:20+00:00</td>\n",
       "      <td>2016-05-05 00:00:00+00:00</td>\n",
       "      <td>81</td>\n",
       "      <td>SANTO ANTÔNIO</td>\n",
       "      <td>0</td>\n",
       "      <td>0</td>\n",
       "      <td>0</td>\n",
       "      <td>0</td>\n",
       "      <td>0</td>\n",
       "      <td>0</td>\n",
       "      <td>Yes</td>\n",
       "      <td>2016-05-05</td>\n",
       "      <td>2016-05-11</td>\n",
       "      <td>-6</td>\n",
       "      <td>NaN</td>\n",
       "    </tr>\n",
       "    <tr>\n",
       "      <th>72362</th>\n",
       "      <td>37874819668210</td>\n",
       "      <td>5655637</td>\n",
       "      <td>M</td>\n",
       "      <td>2016-05-04 06:50:57+00:00</td>\n",
       "      <td>2016-05-03 00:00:00+00:00</td>\n",
       "      <td>7</td>\n",
       "      <td>TABUAZEIRO</td>\n",
       "      <td>0</td>\n",
       "      <td>0</td>\n",
       "      <td>0</td>\n",
       "      <td>0</td>\n",
       "      <td>0</td>\n",
       "      <td>0</td>\n",
       "      <td>Yes</td>\n",
       "      <td>2016-05-03</td>\n",
       "      <td>2016-05-04</td>\n",
       "      <td>-1</td>\n",
       "      <td>NaN</td>\n",
       "    </tr>\n",
       "  </tbody>\n",
       "</table>\n",
       "</div>"
      ],
      "text/plain": [
       "             patient_id  appointment_id gender             scheduled_day  \\\n",
       "27033    78392726617520         5679978      M 2016-05-10 10:51:53+00:00   \n",
       "55226    78962939678680         5715660      F 2016-05-18 14:50:41+00:00   \n",
       "64175   242522583899790         5664962      F 2016-05-05 13:43:58+00:00   \n",
       "71533  9982315816121220         5686628      F 2016-05-11 13:49:20+00:00   \n",
       "72362    37874819668210         5655637      M 2016-05-04 06:50:57+00:00   \n",
       "\n",
       "                appointment_day  age  neighbourhood  scholarship  \\\n",
       "27033 2016-05-09 00:00:00+00:00   38    RESISTÊNCIA            0   \n",
       "55226 2016-05-17 00:00:00+00:00   19  SANTO ANTÔNIO            0   \n",
       "64175 2016-05-04 00:00:00+00:00   22     CONSOLAÇÃO            0   \n",
       "71533 2016-05-05 00:00:00+00:00   81  SANTO ANTÔNIO            0   \n",
       "72362 2016-05-03 00:00:00+00:00    7     TABUAZEIRO            0   \n",
       "\n",
       "       hipertension  diabetes  alcoholism  handcap  sms_received no_show  \\\n",
       "27033             0         0           0        1             0     Yes   \n",
       "55226             0         0           0        1             0     Yes   \n",
       "64175             0         0           0        0             0     Yes   \n",
       "71533             0         0           0        0             0     Yes   \n",
       "72362             0         0           0        0             0     Yes   \n",
       "\n",
       "      appointment_date scheduled_date  difference_days difference_days_cat  \n",
       "27033       2016-05-09     2016-05-10               -1                 NaN  \n",
       "55226       2016-05-17     2016-05-18               -1                 NaN  \n",
       "64175       2016-05-04     2016-05-05               -1                 NaN  \n",
       "71533       2016-05-05     2016-05-11               -6                 NaN  \n",
       "72362       2016-05-03     2016-05-04               -1                 NaN  "
      ]
     },
     "execution_count": 10,
     "metadata": {},
     "output_type": "execute_result"
    }
   ],
   "source": [
    "app_df[app_df.difference_days < 0]"
   ]
  },
  {
   "cell_type": "code",
   "execution_count": 11,
   "metadata": {},
   "outputs": [],
   "source": [
    "# for sake of consistency we will drop these 5 rows\n",
    "app_df = (app_df.drop(app_df[app_df.difference_days < 0].index))"
   ]
  },
  {
   "cell_type": "code",
   "execution_count": 12,
   "metadata": {},
   "outputs": [
    {
     "data": {
      "image/png": "[encoded data removed]",
      "text/plain": [
       "<Figure size 432x288 with 1 Axes>"
      ]
     },
     "metadata": {
      "needs_background": "light"
     },
     "output_type": "display_data"
    },
    {
     "name": "stdout",
     "output_type": "stream",
     "text": [
      " \n",
      "Proportion of sms_received for difference_days > 30\n",
      "0.6176527269223357\n"
     ]
    }
   ],
   "source": [
    "# now we plot propotion between sms_received and difference_days again after droping the negative values\n",
    "x = app_df.groupby('difference_days')['sms_received'].mean()[:32].index\n",
    "y = app_df.groupby('difference_days')['sms_received'].mean()[:32].values\n",
    "plt.title('Propotion of sms_received by difference_days')\n",
    "plt.plot(x,y, 'bo')\n",
    "plt.plot(x,y)\n",
    "plt.xlabel('difference_days')\n",
    "plt.ylabel('sms_received')\n",
    "plt.show()\n",
    "print(' ')\n",
    "print(('Proportion of sms_received for difference_days > 30'))\n",
    "print(app_df[app_df.difference_days > 30]['sms_received'].mean())"
   ]
  },
  {
   "cell_type": "markdown",
   "metadata": {},
   "source": [
    "After dropping all rows with negative values we can see patients start receiving sms from hospital for difference_days > 3\n",
    "this will be included on oue next phase"
   ]
  },
  {
   "cell_type": "code",
   "execution_count": 13,
   "metadata": {},
   "outputs": [
    {
     "name": "stdout",
     "output_type": "stream",
     "text": [
      "D    9545\n",
      "C    5057\n",
      "E    3149\n",
      "B    2715\n",
      "A    1792\n",
      "Name: difference_days_cat, dtype: int64\n"
     ]
    }
   ],
   "source": [
    "# fig above shows patients scheduled 2 days and less from the appointment date didn't receive sms from the hospital\n",
    "no_show = (app_df[app_df.no_show == 'Yes']['difference_days_cat'].value_counts())\n",
    "print(no_show)"
   ]
  },
  {
   "cell_type": "markdown",
   "metadata": {},
   "source": [
    "while A represents same day appointment these numbers show patient scheduled far from the appointment day \n",
    "more likely to miss their appointment"
   ]
  },
  {
   "cell_type": "code",
   "execution_count": 14,
   "metadata": {},
   "outputs": [
    {
     "data": {
      "image/png": "[encoded data removed]",
      "text/plain": [
       "<Figure size 432x288 with 1 Axes>"
      ]
     },
     "metadata": {
      "needs_background": "light"
     },
     "output_type": "display_data"
    }
   ],
   "source": [
    "from itertools import cycle, islice\n",
    "my_colors = list(islice(cycle(['b', 'r', 'g', 'y', 'k']), None, len(no_show)))\n",
    "no_show.plot(kind=\"bar\", title=\"test\",color=my_colors);\n",
    "plt.title(\"proportion between difference days and no show\");\n",
    "plt.xlabel(\"difference_days_cat\");\n",
    "plt.ylabel(\"no_show rate\");"
   ]
  },
  {
   "cell_type": "markdown",
   "metadata": {},
   "source": [
    "as shown in figure above patients scheduled far from their appointment day have more no_show rate than others,\n",
    "while patients scheduled on same day of their appointment have significant less no_show rate"
   ]
  },
  {
   "cell_type": "code",
   "execution_count": 15,
   "metadata": {},
   "outputs": [
    {
     "data": {
      "image/png": "[encoded data removed]",
      "text/plain": [
       "<Figure size 432x432 with 1 Axes>"
      ]
     },
     "metadata": {},
     "output_type": "display_data"
    }
   ],
   "source": [
    "pie_data = app_df.difference_days_cat.value_counts().sort_index()\n",
    "abel_list = pie_data.index\n",
    "sizes = pie_data\n",
    "fig1, ax1 = plt.subplots(figsize=(6, 6))\n",
    "pie_data.plot(kind = 'pie', autopct =' %1.1f%%',explode = (0.1, 0, 0, 0, 0),pctdistance = 0.6, \n",
    "              labeldistance = 1.05, shadow = True, startangle = 0 , title='Appointment counts by difference_days_cat');"
   ]
  },
  {
   "cell_type": "markdown",
   "metadata": {},
   "source": [
    "The above figure shows most of the patient had their appointments scheduled on same day"
   ]
  },
  {
   "cell_type": "code",
   "execution_count": 16,
   "metadata": {},
   "outputs": [
    {
     "data": {
      "image/png": "[encoded data removed]",
      "text/plain": [
       "<Figure size 432x288 with 1 Axes>"
      ]
     },
     "metadata": {
      "needs_background": "light"
     },
     "output_type": "display_data"
    }
   ],
   "source": [
    "# next we will study the impact of not receiving sms from the hospital on no show rate\n",
    "no_show_sms = (app_df[app_df.no_show == 'Yes']['sms_received'].value_counts())\n",
    "no_show_sms.plot(kind = 'bar');\n",
    "plt.title(\"proportion between no show and sms_received\");\n",
    "plt.xlabel(\"SMS\");\n",
    "plt.ylabel(\"no_show rate\");"
   ]
  },
  {
   "cell_type": "code",
   "execution_count": 17,
   "metadata": {},
   "outputs": [
    {
     "data": {
      "image/png": "[encoded data removed]",
      "text/plain": [
       "<Figure size 432x288 with 1 Axes>"
      ]
     },
     "metadata": {
      "needs_background": "light"
     },
     "output_type": "display_data"
    }
   ],
   "source": [
    "show_up_sms = (app_df[app_df.no_show == 'No']['sms_received'].value_counts())\n",
    "show_up_sms.plot(kind = 'bar');\n",
    "plt.title(\"proportion between show_up and sms_received\");\n",
    "plt.xlabel(\"SMS\");\n",
    "plt.ylabel(\"show_up rate\");"
   ]
  },
  {
   "cell_type": "markdown",
   "metadata": {},
   "source": [
    "This requires further study as patients who scheduled 0 to 2 days from appointment didn't receive sms therefor we will explode\n",
    "them by filtering the dataframe with difference_days > 3"
   ]
  },
  {
   "cell_type": "code",
   "execution_count": 18,
   "metadata": {},
   "outputs": [],
   "source": [
    "# copying current dataframe into new one  \n",
    "app_df_copy = app_df.copy()\n",
    "# filtering the new dataframe to exlode all records with difference_day < 3\n",
    "app_df_copy = app_df_copy[app_df_copy.difference_days > 3]\n",
    "# appending the value of no_show from (No and Yes) to (False and True) boolean\n",
    "boolean_replacement = {'Yes': True, 'No': False}\n",
    "app_df_copy.no_show.replace(boolean_replacement, inplace = True)\n",
    "# creating new dataframe which will hold comparison for no_show true or false against sms_received true or false\n",
    "compare_df = pd.DataFrame()\n",
    "compare_df['no_show_1'] = (app_df_copy[app_df_copy.no_show == True]['sms_received'].value_counts())\n",
    "compare_df['show_up_1'] = (app_df_copy[app_df_copy.no_show == False]['sms_received'].value_counts())\n",
    "compare_df['sample_size'] = compare_df.no_show_1 + compare_df.show_up_1\n",
    "compare_df['no_show_rate'] = (compare_df.no_show_1 / (compare_df.no_show_1 + compare_df.show_up_1))\n",
    "compare_df.sort_index(inplace = True)\n",
    "# Appending the value of sms_received from (0,1) to (False,True) boolean\n",
    "compare_df.index=['False','True']"
   ]
  },
  {
   "cell_type": "code",
   "execution_count": 19,
   "metadata": {},
   "outputs": [
    {
     "data": {
      "text/html": [
       "<div>\n",
       "<style scoped>\n",
       "    .dataframe tbody tr th:only-of-type {\n",
       "        vertical-align: middle;\n",
       "    }\n",
       "\n",
       "    .dataframe tbody tr th {\n",
       "        vertical-align: top;\n",
       "    }\n",
       "\n",
       "    .dataframe thead th {\n",
       "        text-align: right;\n",
       "    }\n",
       "</style>\n",
       "<table border=\"1\" class=\"dataframe\">\n",
       "  <thead>\n",
       "    <tr style=\"text-align: right;\">\n",
       "      <th></th>\n",
       "      <th>no_show_1</th>\n",
       "      <th>show_up_1</th>\n",
       "      <th>sample_size</th>\n",
       "      <th>no_show_rate</th>\n",
       "    </tr>\n",
       "  </thead>\n",
       "  <tbody>\n",
       "    <tr>\n",
       "      <th>False</th>\n",
       "      <td>7572</td>\n",
       "      <td>15136</td>\n",
       "      <td>22708</td>\n",
       "      <td>0.333451</td>\n",
       "    </tr>\n",
       "    <tr>\n",
       "      <th>True</th>\n",
       "      <td>9591</td>\n",
       "      <td>24985</td>\n",
       "      <td>34576</td>\n",
       "      <td>0.277389</td>\n",
       "    </tr>\n",
       "  </tbody>\n",
       "</table>\n",
       "</div>"
      ],
      "text/plain": [
       "       no_show_1  show_up_1  sample_size  no_show_rate\n",
       "False       7572      15136        22708      0.333451\n",
       "True        9591      24985        34576      0.277389"
      ]
     },
     "execution_count": 19,
     "metadata": {},
     "output_type": "execute_result"
    }
   ],
   "source": [
    "#reading the new dataframe with comparison values\n",
    "compare_df.head(3)"
   ]
  },
  {
   "cell_type": "code",
   "execution_count": 20,
   "metadata": {},
   "outputs": [
    {
     "data": {
      "image/png": "[encoded data removed]",
      "text/plain": [
       "<Figure size 432x432 with 1 Axes>"
      ]
     },
     "metadata": {
      "needs_background": "light"
     },
     "output_type": "display_data"
    }
   ],
   "source": [
    "#plotting proportion for No-show and sms_received by passing in compare_df\n",
    "fig = plt.figure(figsize=(6, 6))\n",
    "ax = fig.add_subplot(111)\n",
    "height = 0.5\n",
    "bins = np.arange(len(compare_df.index))\n",
    "bars = ax.barh(bins, compare_df.no_show_rate.values, height, align = 'center',color = ['red' , 'blue'])  \n",
    "ax.set_xlabel('No-show rates')\n",
    "ax.set_ylabel('sms (n=sample size)')\n",
    "ax.set_title('No-show rates by sms')\n",
    "ax.set_yticks(bins)\n",
    "labels = []\n",
    "for row_number in bins:\n",
    "    labels.append(str(compare_df.index[row_number]) + ' (n='+ str(compare_df.sample_size.iloc[row_number]) + ')')\n",
    "ax.set_yticklabels(labels, ha = 'right',va = 'center')\n",
    "for bar in bars:\n",
    "    width = bar.get_width()\n",
    "    ax.text(width * 1.02, bar.get_y() + (height / 2.), round(width, 3),ha = 'left', va = 'center')\n",
    "plt.show()"
   ]
  },
  {
   "cell_type": "markdown",
   "metadata": {},
   "source": [
    "The figure above indicates patients scheduled far from their appointment day and didn't receive sms from the hospital\n",
    "are more likely to miss their apppointment than patients who received sms from the hospita."
   ]
  },
  {
   "cell_type": "markdown",
   "metadata": {},
   "source": [
    "<a id='conclusions'></a>\n",
    "## Conclusions\n",
    "\n",
    "> **Tip**: Finally, summarize your findings and the results that have been performed. Make sure that you are clear with regards to the limitations of your exploration. If you haven't done any statistical tests, do not imply any statistical conclusions. And make sure you avoid implying causation from correlation!\n",
    "\n",
    "> **Tip**: Once you are satisfied with your work, you should save a copy of the report in HTML or PDF form via the **File** > **Download as** submenu. Before exporting your report, check over it to make sure that the flow of the report is complete. You should probably remove all of the \"Tip\" quotes like this one so that the presentation is as tidy as possible. Congratulations!"
   ]
  },
  {
   "cell_type": "markdown",
   "metadata": {},
   "source": [
    "Attributes of scholarship,hipertension,diabetes,alcoholism and handcap didn't show much impact on no-show rate on individual level, also can't take in consideration as hospital most likely ends up with huge portion of patients with these attributes"
   ]
  },
  {
   "cell_type": "markdown",
   "metadata": {},
   "source": [
    "Early schedule of appointments with big gap between schedule date and appointment date has huge impact on patients missing\n",
    "their appointments, hospital should take in consideration not to schedule appointments above one week"
   ]
  },
  {
   "cell_type": "markdown",
   "metadata": {
    "collapsed": true
   },
   "source": [
    "Patients who didn't receive sms confirmation from the hospital more likely not to show up especially patients scheduled\n",
    "long before appoitnment date, could be due to long period patients forget about the appointment.\n",
    "Hospitals should send confirmation sms upon creation of the appointment and sms reminder one day before appointment day."
   ]
  },
  {
   "cell_type": "markdown",
   "metadata": {},
   "source": [
    "limitations of this study are\n",
    "1. Some Attributes don't have linear relationship with no_show and we have excluded them from our scope of investigation\n",
    "2. Interrelationship between Attributes weren't investigated deeply. Multicollinearity were excluded from the scope of investigation.\n",
    "3. Dataset has appointment hour as 00:00:00 due to this it was neglected and further investigation if there's a peak hour during the day with most patients don't show_up wasn't carried out."
   ]
  }
 ],
 "metadata": {
  "kernelspec": {
   "display_name": "Python 3",
   "language": "python",
   "name": "python3"
  },
  "language_info": {
   "codemirror_mode": {
    "name": "ipython",
    "version": 3
   },
   "file_extension": ".py",
   "mimetype": "text/x-python",
   "name": "python",
   "nbconvert_exporter": "python",
   "pygments_lexer": "ipython3",
   "version": "3.8.3"
  }
 },
 "nbformat": 4,
 "nbformat_minor": 2
}
